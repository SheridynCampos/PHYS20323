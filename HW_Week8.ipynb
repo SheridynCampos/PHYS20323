{
 "cells": [
  {
   "cell_type": "markdown",
   "metadata": {},
   "source": [
    "# PHYS 20323/60323 Homework Week 8\n",
    "\n",
    "FALL 2022\n"
   ]
  },
  {
   "cell_type": "markdown",
   "metadata": {},
   "source": [
    "### 1) Altitude of a satellite\n",
    "\n",
    "A satellite is to be launched into a circular orbit around the Earth so that it orbits the planet once every T seconds.\n",
    "\n",
    "The altitude h above the Earth’s surface that the satellite must have is:\n",
    "\n",
    "$$h = \\left( \\frac{G M T^2}{4\\pi^2} \\right)^{1/3} - R$$\n",
    "\n",
    "where $G = 6.67 \\times 10^{-11}$ m$^3$ kg$^{-1}$ s$^{-2}$\n",
    "is Newton's gravitational constant, $M = 5.97 \\times 10^{24}$ kg is the mass of the Earth, and $R = 6371$ km is its radius.\n",
    "\n",
    "#### Write a program that asks the user to enter the desired value of T and then calculates and prints out the correct altitude in meters.\n"
   ]
  },
  {
   "cell_type": "code",
   "execution_count": 1,
   "metadata": {},
   "outputs": [
    {
     "name": "stdout",
     "output_type": "stream",
     "text": [
      "enter value of T in minutes 45\n",
      "7.3530574074468336e+19\n"
     ]
    }
   ],
   "source": [
    "import math\n",
    "T = input(\"enter value of T in minutes\")\n",
    "ts = float(T)*60\n",
    "G = (6.67 * (10**-11))\n",
    "M = (5.97 * (10**24))\n",
    "R = 6371\n",
    "h = ( (( ( G* M * ((ts)**2)  ) / (4 * ((math.pi)**2)) ) - R ) )\n",
    "print(h)\n"
   ]
  },
  {
   "cell_type": "markdown",
   "metadata": {},
   "source": [
    "Use your program to calculate the altitudes of satellites that orbit the Earth once\n",
    "a day (so-called “geosynchronous” orbit), once every 90 minutes, and once every\n",
    "45 minutes. What do you conclude from the last of these calculations?\n",
    "\n",
    "\n",
    "\n"
   ]
  },
  {
   "cell_type": "code",
   "execution_count": 2,
   "metadata": {},
   "outputs": [
    {
     "name": "stdout",
     "output_type": "stream",
     "text": [
      "enter value of T in minutes 45\n",
      "7.3530574074468336e+19\n",
      "enter value of T in minutes 90\n",
      "2.9412229629787338e+20\n"
     ]
    }
   ],
   "source": [
    "import math\n",
    "T = input(\"enter value of T in minutes\")\n",
    "ts = float(T)*60\n",
    "G = (6.67 * (10**-11))\n",
    "M = (5.97 * (10**24))\n",
    "R = 6371\n",
    "h = ( (( ( G* M * ((ts)**2)  ) / (4 * ((math.pi)**2)) ) - R ) )\n",
    "print(h)\n",
    "\n",
    "import math\n",
    "T = input(\"enter value of T in minutes\")\n",
    "ts = float(T)*60\n",
    "G = (6.67 * (10**-11))\n",
    "M = (5.97 * (10**24))\n",
    "R = 6371\n",
    "h = ( (( ( G* M * ((ts)**2)  ) / (4 * ((math.pi)**2)) ) - R ) )\n",
    "print(h)\n",
    "\n",
    "#the altitude doubled at the speed decreased by the half"
   ]
  },
  {
   "cell_type": "markdown",
   "metadata": {},
   "source": [
    "Technically a geosynchronous satellite is one that orbits the Earth once persidereal\n",
    "day, which is 23.93 hours, not 24 hours. Why is this? And how much difference\n",
    "will it make to the altitude of the satellite?"
   ]
  },
  {
   "cell_type": "code",
   "execution_count": null,
   "metadata": {},
   "outputs": [],
   "source": [
    "#im not sure why but the satilite will need to be slightly closer so it can orbit around \"quicker\" becuase \n",
    "#it will have less disntace to go at the same speed"
   ]
  },
  {
   "cell_type": "markdown",
   "metadata": {},
   "source": [
    "### 2) Special Relativity\n",
    "\n",
    "A spaceship travels from Earth in a straight line at a (relativistic)\n",
    "speed $v$ to another planet $x$ light years away. Write a program to ask\n",
    "the user for the value of $x$ and the speed $v$ as a fraction of the speed\n",
    "of light, then print out the time in years that the spaceship takes to\n",
    "reach its destination (a) in the rest frame of an observer on Earth\n",
    "and (b) as perceived by a passenger on board the ship.\n",
    "\n",
    "$$x' = \\gamma (x - vt)$$\n",
    "\n",
    "$$t' = \\gamma \\left(t - \\frac{v x}{c^2}\\right)$$\n",
    "\n",
    "$$\\gamma = \\frac{1}{\\sqrt{1 - \\frac{v^2}{c^2}}}$$\n"
   ]
  },
  {
   "cell_type": "code",
   "execution_count": 4,
   "metadata": {},
   "outputs": [
    {
     "name": "stdout",
     "output_type": "stream",
     "text": [
      "enter value of x 10\n",
      "enter fraction of the speed of light .90\n",
      "9.1\n",
      "0.9999999999999999\n"
     ]
    }
   ],
   "source": [
    "#what is t what is relaticity what is anything \n",
    "import math\n",
    "x = input(\"enter value of x\")\n",
    "X = float(x)\n",
    "v = input(\"enter fraction of the speed of light\")\n",
    "V = float(v)\n",
    "c = 299792458\n",
    "t = 1\n",
    "\n",
    "g = ( (1)/(math.sqrt(1- ((V**2)/c**2)) ) )\n",
    "xprime = (g*(X - (V*t)))\n",
    "tprime = (g* ( (t)- ( (V*X) / (c**2) ) ) ) \n",
    "print(xprime)\n",
    "print(tprime)"
   ]
  },
  {
   "cell_type": "markdown",
   "metadata": {},
   "source": [
    "#### Use your program to calculate the answers for a planet 10 light years away with $v = 0.90c$,  $v = 0.98c$, $v = 0.999c$."
   ]
  },
  {
   "cell_type": "code",
   "execution_count": 5,
   "metadata": {},
   "outputs": [
    {
     "name": "stdout",
     "output_type": "stream",
     "text": [
      "enter value of x10\n",
      "enter fraction of the speed of light.90\n",
      "9.1\n",
      "0.9999999999999999\n"
     ]
    }
   ],
   "source": [
    "import math\n",
    "x = input(\"enter value of x\")\n",
    "X = float(x)\n",
    "v = input(\"enter fraction of the speed of light\")\n",
    "V = float(v)\n",
    "c = 299792458\n",
    "t = 1\n",
    "\n",
    "g = ( (1)/(math.sqrt(1- ((V**2)/c**2)) ) )\n",
    "xprime = (g*(X - (V*t)))\n",
    "tprime = (g* ( (t)- ( (V*X) / (c**2) ) ) )\n",
    "\n",
    "print(xprime)\n",
    "print(tprime)"
   ]
  },
  {
   "cell_type": "code",
   "execution_count": 6,
   "metadata": {},
   "outputs": [
    {
     "name": "stdout",
     "output_type": "stream",
     "text": [
      "enter value of x10\n",
      "enter fraction of the speed of light.98\n",
      "9.02\n",
      "0.9999999999999999\n"
     ]
    }
   ],
   "source": [
    "import math\n",
    "x = input(\"enter value of x\")\n",
    "X = float(x)\n",
    "v = input(\"enter fraction of the speed of light\")\n",
    "V = float(v)\n",
    "c = 299792458\n",
    "t = 1\n",
    "\n",
    "g = ( (1)/(math.sqrt(1- ((V**2)/c**2)) ) )\n",
    "xprime = (g*(X - (V*t)))\n",
    "tprime = (g* ( (t)- ( (V*X) / (c**2) ) ) )\n",
    "\n",
    "print(xprime)\n",
    "print(tprime)"
   ]
  },
  {
   "cell_type": "code",
   "execution_count": 7,
   "metadata": {},
   "outputs": [
    {
     "name": "stdout",
     "output_type": "stream",
     "text": [
      "enter value of x10\n",
      "enter fraction of the speed of light.999\n",
      "9.001\n",
      "0.9999999999999999\n"
     ]
    }
   ],
   "source": [
    "import math\n",
    "x = input(\"enter value of x\")\n",
    "X = float(x)\n",
    "v = input(\"enter fraction of the speed of light\")\n",
    "V = float(v)\n",
    "c = 299792458\n",
    "t = 1\n",
    "\n",
    "g = ( (1)/(math.sqrt(1- ((V**2)/c**2)) ) )\n",
    "xprime = (g*(X - (V*t)))\n",
    "tprime = (g* ( (t)- ( (V*X) / (c**2) ) ) )\n",
    "\n",
    "print(xprime)\n",
    "print(tprime)"
   ]
  },
  {
   "cell_type": "markdown",
   "metadata": {},
   "source": [
    "### 3) The quadratic equation\n",
    "\n",
    " Write a program that takes as input three numbers, $a$, $b$, and $c$, and prints out the two solutions to the quadratic equation $ax^2 + bx + c = 0$ using the standard\n",
    "formula:\n",
    "\n",
    "$$x = \\frac{-b \\pm \\sqrt{b^2 - 4ac}}{2a}$$\n",
    "\n",
    "Use your program to compute the solutions of $0.001x^2 + 1000x + 0.001 = 0$."
   ]
  },
  {
   "cell_type": "code",
   "execution_count": 19,
   "metadata": {},
   "outputs": [
    {
     "name": "stdout",
     "output_type": "stream",
     "text": [
      "498999.999999\n",
      "-500999.999999\n"
     ]
    }
   ],
   "source": [
    "import math\n",
    "def xplus(a,b,c):\n",
    "    return (( (-b) + ( math.sqrt( (b**2) - (4 * a * c) ) ) / ( 2*a ) ) )\n",
    "def xminus(a,b,c):\n",
    "    return (( (-b) - ( math.sqrt( (b**2) - (4 * a * c) ) ) / ( 2*a ) ) )\n",
    "\n",
    "print(xplus(.001,1000,.001))\n",
    "print(xminus(.001,1000,.001))"
   ]
  },
  {
   "cell_type": "markdown",
   "metadata": {},
   "source": [
    "There is another way to write the solutions to a quadratic equation. Multiplying top and bottom of the solution above by $-b \\mp \\sqrt{b^2 - 4ac}$, show that the solutions\n",
    "can also be written as:\n",
    "\n",
    "$$x = \\frac{2c}{-b \\mp \\sqrt{b^2 - 4ac}}$$\n",
    "\n",
    "Add further lines to your program to print these values in addition to the earlier ones and again use the program to solve $0.001x^2 + 1000x + 0.001 = 0$. What do you see? How do you explain it?"
   ]
  },
  {
   "cell_type": "code",
   "execution_count": 20,
   "metadata": {},
   "outputs": [
    {
     "name": "stdout",
     "output_type": "stream",
     "text": [
      "498999\n",
      "-500999\n",
      "999\n",
      "-1000\n"
     ]
    }
   ],
   "source": [
    "import math\n",
    "import numpy as np\n",
    "def xplus(a,b,c):\n",
    "    return (( (-b) + ( math.sqrt( (b**2) - (4 * a * c) ) ) / ( 2*a ) ) )\n",
    "def xminus(a,b,c):\n",
    "    return (( (-b) - ( math.sqrt( (b**2) - (4 * a * c) ) ) / ( 2*a ) ) )\n",
    "def xplusweird(a,b,c):\n",
    "    return ( (2*c)/ (-b) + (math.sqrt((b**2)-(4*a*c))) )\n",
    "def xminusweird(a,b,c):\n",
    "    return ( (2*c)/ (-b) - (math.sqrt((b**2)-(4*a*c))) )\n",
    "\n",
    "print(np.int32(xplus(.001,1000,.001)))\n",
    "print(np.int32(xminus(.001,1000,.001)))\n",
    "print(np.int32(xplusweird(.001,1000,.001)))\n",
    "print(np.int32(xminusweird(.001,1000,.001)))\n",
    "\n"
   ]
  },
  {
   "cell_type": "markdown",
   "metadata": {},
   "source": [
    "Using what you have learned, write a new program that calculates both roots of a quadratic equation accurately in all cases."
   ]
  },
  {
   "cell_type": "code",
   "execution_count": 26,
   "metadata": {},
   "outputs": [
    {
     "name": "stdout",
     "output_type": "stream",
     "text": [
      "999\n",
      "-1000\n"
     ]
    }
   ],
   "source": [
    "import numoy as np\n",
    "import math\n",
    "def xplus(a,b,c):\n",
    "    return (( (-b) + ( math.sqrt( (b**2) - (4 * a * c) ) ) / ( 2*a ) ) )\n",
    "def xminus(a,b,c):\n",
    "    return (( (-b) - ( math.sqrt( (b**2) - (4 * a * c) ) ) / ( 2*a ) ) )\n",
    "def xplusweird(a,b,c):\n",
    "    return ( (2*c)/ (-b) + (math.sqrt((b**2)-(4*a*c))) )\n",
    "def xminusweird(a,b,c):\n",
    "    return ( (2*c)/ (-b) - (math.sqrt((b**2)-(4*a*c))) )\n",
    "\n",
    "xm = xminus(.001,1000,.001)\n",
    "xmw = xminusweird(.001,1000,.001)\n",
    "xpw= xplusweird(.001,1000,.001)\n",
    "xp = xplus(.001,1000,.001)\n",
    "\n",
    "if xp == xpw:\n",
    "    print(np.int32(xp))\n",
    "elif xp != xpw:\n",
    "    print(np.int32(xpw))\n",
    "if xmw == xm :\n",
    "    print (np.int32(xm))\n",
    "if xmw != xm :\n",
    "    print (np.int32(xmw))"
   ]
  },
  {
   "cell_type": "code",
   "execution_count": null,
   "metadata": {},
   "outputs": [],
   "source": []
  }
 ],
 "metadata": {
  "kernelspec": {
   "display_name": "Python 3 (ipykernel)",
   "language": "python",
   "name": "python3"
  },
  "language_info": {
   "codemirror_mode": {
    "name": "ipython",
    "version": 3
   },
   "file_extension": ".py",
   "mimetype": "text/x-python",
   "name": "python",
   "nbconvert_exporter": "python",
   "pygments_lexer": "ipython3",
   "version": "3.9.12"
  }
 },
 "nbformat": 4,
 "nbformat_minor": 4
}
