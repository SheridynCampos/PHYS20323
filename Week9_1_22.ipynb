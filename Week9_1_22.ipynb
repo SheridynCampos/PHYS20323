{
 "cells": [
  {
   "cell_type": "markdown",
   "metadata": {},
   "source": [
    "# Week 9 HW - Monte Carlo"
   ]
  },
  {
   "cell_type": "markdown",
   "metadata": {},
   "source": [
    "## 1) Lets Make a Deal\n",
    "Monte Carlo methods are often useful to ensure that our thinking is reasonable. A good\n",
    "example of this kind of use is to investigate a simple problem that generated much attention\n",
    "several years ago and for which many mathematicians obtained an incorrect solution.\n",
    "\n",
    "The problem was the analysis of the optimal strategy in a television game show popular at\n",
    "the time. The show was Lets Make a Deal with host Monty Hall. At some point in the show,\n",
    "a contestant was given a choice of selecting one of three possible items, each concealed behind\n",
    "one of three closed doors. The items varied considerably in value.\n",
    "\n",
    "After the contestant made a choice but before the chosen door was opened, the\n",
    "host, who knew where the most valuable item was, would open one of the doors\n",
    "not selected and reveal a worthless item.\n",
    "\n",
    "**The host would then offer to let the contestant select a different door from what was originally\n",
    "selected. The question, of course, is should the contestant switch?**\n",
    "\n",
    "Much interest in this problem was generated when it was analyzed by a popular magazine\n",
    "writer, Marilyn vos Savant, who concluded that the optimal strategy is to switch. This\n",
    "strategy is counterintuitive to many mathematicians, who would say that there is nothing to\n",
    "be gained by switching; that is, that the probability of improving the selection is 0.5. Study\n",
    "this problem by Monte Carlo methods. Be careful to understand all of the assumptions\n",
    "\n",
    "**Write a code that implement this test for 1000 “games” and determine that following:\n",
    "(a) Determine the probability of improving the selection by switching?**\n"
   ]
  },
  {
   "cell_type": "code",
   "execution_count": 1,
   "metadata": {},
   "outputs": [
    {
     "name": "stdout",
     "output_type": "stream",
     "text": [
      "341\n",
      "659\n"
     ]
    }
   ],
   "source": [
    "#noswitch\n",
    "import numpy as np \n",
    "numberofwins = 0\n",
    "numberofloss = 0 \n",
    "count = 0\n",
    "while count < 1000: \n",
    "    prizedoor = np.random.randint(low=1,high=4,size=1)\n",
    "    pickeddoor = np.random.randint(low=1,high=4,size=1)\n",
    "\n",
    "\n",
    "    if prizedoor == 1 and pickeddoor == 1:\n",
    "        opendoor = np.random.randint(low=2,high=4,size=1)\n",
    "    elif prizedoor == 1 and pickeddoor == 2:\n",
    "        opendoor = 3\n",
    "    elif prizedoor == 1 and pickeddoor == 3:\n",
    "        opendoor = 2\n",
    "\n",
    "    elif prizedoor == 2 and pickeddoor == 2:\n",
    "        opendoor = np.random.randint(low=1,high=4,size=1)\n",
    "        if opendoor == 2:\n",
    "            opendoor = np.random.randint(low=1,high=4,size=1)\n",
    "    elif prizedoor == 2 and pickeddoor == 1:\n",
    "        opendoor = 3\n",
    "    elif prizedoor == 2 and pickeddoor == 3:\n",
    "        opendoor = 1\n",
    "\n",
    "    elif prizedoor == 3 and pickeddoor == 3:\n",
    "        opendoor = np.random.randint(low=1,high=2,size=1)\n",
    "    elif prizedoor == 3 and pickeddoor == 2:\n",
    "        opendoor = 1\n",
    "    elif prizedoor == 3 and pickeddoor == 1:\n",
    "        opendoor = 2\n",
    "\n",
    "    if pickeddoor == prizedoor:\n",
    "        worlW = 1\n",
    "        worlL = 0\n",
    "    else:\n",
    "        worlL = 1\n",
    "        worlW = 0\n",
    "    numberofwins = numberofwins + worlW\n",
    "    numberofloss = numberofloss + worlL\n",
    "    count = count + 1 \n",
    "\n",
    "\n",
    "\n",
    "print(numberofwins)\n",
    "print(numberofloss)"
   ]
  },
  {
   "cell_type": "code",
   "execution_count": 2,
   "metadata": {},
   "outputs": [
    {
     "name": "stdout",
     "output_type": "stream",
     "text": [
      "644\n",
      "356\n"
     ]
    }
   ],
   "source": [
    "#switch\n",
    "import numpy as np \n",
    "numberofwins = 0\n",
    "numberofloss = 0 \n",
    "count = 0\n",
    "while count < 1000: \n",
    "    prizedoor = np.random.randint(low=1,high=4,size=1)\n",
    "    pickeddoor = np.random.randint(low=1,high=4,size=1)\n",
    "\n",
    "\n",
    "    if prizedoor == 1 and pickeddoor == 1:\n",
    "        opendoor = np.random.randint(low=2,high=4,size=1)\n",
    "    elif prizedoor == 1 and pickeddoor == 2:\n",
    "        opendoor = 3\n",
    "    elif prizedoor == 1 and pickeddoor == 3:\n",
    "        opendoor = 2\n",
    "\n",
    "    elif prizedoor == 2 and pickeddoor == 2:\n",
    "        opendoor = np.random.randint(low=1,high=4,size=1)\n",
    "        if opendoor == 2:\n",
    "            opendoor = np.random.randint(low=1,high=4,size=1)\n",
    "    elif prizedoor == 2 and pickeddoor == 1:\n",
    "        opendoor = 3\n",
    "    elif prizedoor == 2 and pickeddoor == 3:\n",
    "        opendoor = 1\n",
    "\n",
    "    elif prizedoor == 3 and pickeddoor == 3:\n",
    "        opendoor = np.random.randint(low=1,high=2,size=1)\n",
    "    elif prizedoor == 3 and pickeddoor == 2:\n",
    "        opendoor = 1\n",
    "    elif prizedoor == 3 and pickeddoor == 1:\n",
    "        opendoor = 2\n",
    "\n",
    "    if pickeddoor == prizedoor:\n",
    "        worlW = 0 \n",
    "        worlL = 1\n",
    "    else:\n",
    "        worlL = 0\n",
    "        worlW = 1\n",
    "    numberofwins = numberofwins + worlW\n",
    "    numberofloss = numberofloss + worlL\n",
    "    count = count + 1 \n",
    "\n",
    "\n",
    "\n",
    "print(numberofwins)\n",
    "print(numberofloss)\n",
    "    "
   ]
  },
  {
   "cell_type": "markdown",
   "metadata": {},
   "source": [
    "## 2) Random Numbers and Radio Activity\n",
    "\n",
    "The isotope $^{213}$Bi decays to stable $^{209}$Bi via one of two different routes, with probabilities and\n",
    "half-lives thus\n",
    "\n",
    "<img src=\"Decay9.jpg\" alt=\"Decay process for Bi213 to Bi209\" title=\"Bismuth Decay\" />\n",
    "\n",
    "(Technically, $^{209}$Bi isnt really stable, but it has a half-life of more than $10^{19}$ years, a billion\n",
    "times the age of the universe, so it might as well be.)\n",
    "\n",
    "Starting with a sample consisting of 10,000 atoms of $^{213}$Bi, simulate the decay of the atoms\n",
    "by dividing time into slices of length $\\delta t = 1$s each and on each step doing\n",
    "the following:\n",
    "\n",
    "1. For each atom of $^{209}$Pb in turn, decide at random, with the appropriate probability, whether it decays or not. (The probability can be calculated from $p(t) = 1 − 2t/\\tau $, where $\\tau$ is the half life.) Count the total number that decay, subtract it from the number of $^{209}$Pb atoms, and add it to the number of $^{209}$Bi atoms.\n",
    "\n",
    "2. Now do the same for $^{209}$Tl, except that decaying atoms are subtracted from the total for $^{209}$Tl and added to the total for $^{209}$Pb.\n",
    "\n",
    "3. For $^{213}$Bi the situation is more complicated: when a $^{213}$Bi atom decays you have to decide at random with the appropriate probability the route by which it decays. Count the numbers that decay by each route and add and subtract accordingly.\n",
    "\n",
    "Note that you have to work up the chain from the bottom like this, not down from the top,\n",
    "to avoid inadvertently making the same atom decay twice on a single step.\n",
    "\n",
    "Keep track of the number of atoms of each of the four isotopes at all times for 20,000 seconds\n",
    "and make a single graph showing the four numbers as a function of time on the same axes.\n",
    "\n"
   ]
  },
  {
   "cell_type": "code",
   "execution_count": 3,
   "metadata": {},
   "outputs": [],
   "source": [
    "# Write Code Here"
   ]
  },
  {
   "cell_type": "markdown",
   "metadata": {},
   "source": [
    "\n",
    "\n",
    "### Decay of a Single Isotope Exaple - (Use this code as a basis of Problem 2)\n",
    "\n",
    "The radioisotope $^{209}Tl$ (thalium 208) decays in stable $^{208}Pb$ (lead 208) with a half-life of 3.053 minutes.  Suppose we start with a sample of 100 thalium atoms.  Let us simulate the decay of these atoms over time. mimicking the randomness of the decay using random numbers \n",
    "\n",
    "\n",
    "We want to simulate the decay of 100 atoms.  On average we know that the number $N$ of atoms in our sample will fall off exponentially over time according to the standard equation of radioactive decay:\n",
    "\n",
    "$$ N(t)= N(0) 2^{-t/\\tau}$$\n",
    "\n",
    "where $\\tau$ is the half life.   Then the fraction of atoms remaining after time t is $N(t)/N(0) = 2^{-t/\\tau}$ and the fractionthat have decayed, which is equal to the probability $p(t)$ that any particular single atom has decayed, is one minus this number or\n",
    "\n",
    "$$p(t) = 1 - 2^{-t/\\tau}$$\n",
    "\n",
    "Thus this number represents the probability that a single atom decays in a time interval of length $l$.\n",
    "\n",
    "We will simulate the decay of our sample of 100 atoms by dividing the atoms into two sets, one of thallium and one of lead.  "
   ]
  },
  {
   "cell_type": "code",
   "execution_count": 10,
   "metadata": {},
   "outputs": [
    {
     "data": {
      "image/png": "[encoded data removed]",
      "text/plain": [
       "<Figure size 432x288 with 1 Axes>"
      ]
     },
     "metadata": {
      "needs_background": "light"
     },
     "output_type": "display_data"
    }
   ],
   "source": [
    "import numpy as np\n",
    "from numpy import arange\n",
    "from pylab import plot,xlabel,ylabel,show\n",
    "\n",
    "# Constants\n",
    "NTl = 1000             # Initial Number of thallium atoms\n",
    "NPb = 0               # Number of lead atoms \n",
    "tau = 3.035*60        # Half life of lead in seconds\n",
    "h = 1.0               # Size of time-step in seconds\n",
    "p = 1 - 2**(-h/tau)   # Probability of decay in one step\n",
    "\n",
    "tmax = 1000        # Total time\n",
    "\n",
    "# Lists of plot points\n",
    "tpoints = arange(0.0,tmax,h) # make time array\n",
    "Tlpoints = [] # empty array to strore # of Tl atoms at each time step\n",
    "Pbpoints = [] # empty array to strore # of Pb atoms at each time step\n",
    "\n",
    "# Main loop\n",
    "for t in tpoints:    # for time 0-1000 sec\n",
    "    Tlpoints.append(NTl) # append starting # of Tl atoms\n",
    "    Pbpoints.append(NPb) # append starting # of Pb atoms\n",
    "\n",
    "    # Calculate the number of atoms that decay\n",
    "    decay = 0\n",
    "    for i in range(NTl):        # determine number of atoms that decay\n",
    "        if np.random.random() < p:\n",
    "            decay += 1\n",
    "    NTl -= decay # subtract number of decayed Parent atoms \n",
    "    NPb += decay # add number of decayed Daughter atoms \n",
    "\n",
    "# Make the graph\n",
    "plot(tpoints,Tlpoints, c='m') # plot Tl vs. time\n",
    "plot(tpoints,Pbpoints, c='b') # plot Pb vs. time\n",
    "xlabel(\"Time\")\n",
    "ylabel(\"Number of atoms\")\n",
    "show()\n"
   ]
  },
  {
   "cell_type": "code",
   "execution_count": 9,
   "metadata": {},
   "outputs": [
    {
     "data": {
      "image/png": "[encoded data removed]",
      "text/plain": [
       "<Figure size 432x288 with 1 Axes>"
      ]
     },
     "metadata": {
      "needs_background": "light"
     },
     "output_type": "display_data"
    }
   ],
   "source": [
    "import numpy as np\n",
    "from numpy import arange\n",
    "from pylab import plot,xlabel,ylabel,show\n",
    "\n",
    "# Constants\n",
    "NBi = 10000             # Initial Number of Bismuth atoms\n",
    "NPb = 0               # Number of lead atoms\n",
    "NTl = 0\n",
    "tau = (46.0*60)         # Half life of Bismuth in seconds\n",
    "tau1 = (2.2*60)\n",
    "tau2 = (3.3*60)\n",
    "h = 1.0               # Size of time-step in seconds\n",
    "p = 1 - 2**(-h/tau)   # Probability of decay in one step\n",
    "p1 = 1 - 2**(-h/tau1)\n",
    "p2 = 1 - 2**(-h/tau2)\n",
    "tmax = 10000          # Total time\n",
    "\n",
    "# Lists of plot points\n",
    "tpoints = arange(0.0,tmax,h) # make time array\n",
    "Bipoints = [] # empty array to strore # of Bi atoms at each time step\n",
    "Pbpoints = [] # empty array to strore # of Pb atoms at each time step\n",
    "Tlpoints = []\n",
    "\n",
    "# Main loop\n",
    "for t in tpoints:    # for time 0-1000 sec\n",
    "    Bipoints.append(NBi) # append starting # of Bi atoms\n",
    "    Pbpoints.append(NPb) # append starting # of Pb atoms\n",
    "    Tlpoints.append(NTl)\n",
    "\n",
    "    decay = 0\n",
    "    for i in range(NBi):        # determine number of atoms that decay\n",
    "        if np.random.random() < p:\n",
    "            decay += 1\n",
    "    NBi -= decay # subtract number of decayed Parent atoms \n",
    "    if np.random.random() >.0209:\n",
    "            NTl += decay # add number of decayed Daughter atoms \n",
    "    elif np.random.random() <.0209:\n",
    "        NPb += decay # add number of decayed Daughter atoms  \n",
    "        if np.random.random() < p1:\n",
    "            NPb += decay\n",
    "            NTl += decay\n",
    "\n",
    "# Make the graph\n",
    "plot(tpoints,Tlpoints, c='r') # plot Tl vs. time\n",
    "plot(tpoints,Pbpoints, c='b') # plot Pb vs. time\n",
    "plot(tpoints,Bipoints, c='g') \n",
    "xlabel(\"Time\")\n",
    "ylabel(\"Number of atoms\")\n",
    "show()\n"
   ]
  },
  {
   "cell_type": "code",
   "execution_count": 6,
   "metadata": {},
   "outputs": [],
   "source": [
    "    decay = 0\n",
    "    for i in range(NBi):        # determine number of atoms that decay\n",
    "        if np.random.random() < p:\n",
    "            decay += 1\n",
    "    NBi -= decay # subtract number of decayed Parent atoms \n",
    "    if np.random.random() >.0209:\n",
    "        if np.random.random() < p2:\n",
    "            NTl += decay # add number of decayed Daughter atoms \n",
    "    elif np.random.random() <.0209:\n",
    "        if np.random.random() < p1:\n",
    "            NPb += decay # add number of decayed Daughter atoms \n",
    "\n",
    "\n",
    "        \n",
    "        \n",
    "            # Calculate the number of atoms that decay\n",
    "    decay = 0\n",
    "    for i in range(NBi):        # determine number of atoms that decay\n",
    "        if np.random.random() < p:\n",
    "            decay += 1\n",
    "    NBi -= decay # subtract number of decayed Parent atoms \n",
    "    NPb += decay # add number of decayed Daughter atoms "
   ]
  },
  {
   "cell_type": "markdown",
   "metadata": {},
   "source": [
    "If you up the number of atoms to 1,000 or 10,000 you'll see the mean exponential decay will become clearer, by at 100, you can see the stochatic nature of the individual decay times.\n",
    "\n",
    "NOTE: You will have additional decays, half-lives, and probabilities for the HW problem, be careful of the order of of what happens in each time step. "
   ]
  }
 ],
 "metadata": {
  "kernelspec": {
   "display_name": "Python 3 (ipykernel)",
   "language": "python",
   "name": "python3"
  },
  "language_info": {
   "codemirror_mode": {
    "name": "ipython",
    "version": 3
   },
   "file_extension": ".py",
   "mimetype": "text/x-python",
   "name": "python",
   "nbconvert_exporter": "python",
   "pygments_lexer": "ipython3",
   "version": "3.9.12"
  }
 },
 "nbformat": 4,
 "nbformat_minor": 4
}
